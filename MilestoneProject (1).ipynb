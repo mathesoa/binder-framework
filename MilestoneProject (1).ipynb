{
 "cells": [
  {
   "cell_type": "markdown",
   "id": "0457d3dd",
   "metadata": {},
   "source": [
    "# Day 4 Pandas DataFrame Analysis"
   ]
  },
  {
   "cell_type": "code",
   "execution_count": 1,
   "id": "709f5000",
   "metadata": {},
   "outputs": [],
   "source": [
    "import pandas as pd"
   ]
  },
  {
   "cell_type": "code",
   "execution_count": 2,
   "id": "21f011e8",
   "metadata": {},
   "outputs": [],
   "source": [
    "import importlib.metadata"
   ]
  },
  {
   "cell_type": "code",
   "execution_count": 3,
   "id": "e832d9ca",
   "metadata": {},
   "outputs": [
    {
     "data": {
      "text/plain": [
       "'1.21.5'"
      ]
     },
     "execution_count": 3,
     "metadata": {},
     "output_type": "execute_result"
    }
   ],
   "source": [
    "importlib.metadata.version('numpy')"
   ]
  },
  {
   "cell_type": "code",
   "execution_count": 4,
   "id": "defa1fdd",
   "metadata": {},
   "outputs": [],
   "source": [
    "df = pd.read_csv(\"Value_of_Energy_Cost_Savings_Program_Savings_for_Businesses_-_FY2020.csv\")"
   ]
  },
  {
   "cell_type": "code",
   "execution_count": 82,
   "id": "647ae242",
   "metadata": {},
   "outputs": [
    {
     "name": "stdout",
     "output_type": "stream",
     "text": [
      "<class 'pandas.core.frame.DataFrame'>\n",
      "RangeIndex: 450 entries, 0 to 449\n",
      "Data columns (total 28 columns):\n",
      " #   Column                                     Non-Null Count  Dtype         \n",
      "---  ------                                     --------------  -----         \n",
      " 0   Company Name                               450 non-null    object        \n",
      " 1   company contact                            450 non-null    object        \n",
      " 2   company email                              433 non-null    object        \n",
      " 3   company phone                              450 non-null    object        \n",
      " 4   Address                                    450 non-null    object        \n",
      " 5   City                                       450 non-null    object        \n",
      " 6   State                                      450 non-null    object        \n",
      " 7   Postcode                                   450 non-null    int64         \n",
      " 8   Industry                                   450 non-null    object        \n",
      " 9   Industry descr                             434 non-null    object        \n",
      " 10  Company Type                               450 non-null    object        \n",
      " 11  Current fulltime                           446 non-null    float64       \n",
      " 12  Job created                                11 non-null     float64       \n",
      " 13  Job retain                                 14 non-null     float64       \n",
      " 14  Effective Date                             450 non-null    object        \n",
      " 15  Total Savings                              450 non-null    float64       \n",
      " 16  Savings from beginning receiving benefits  450 non-null    float64       \n",
      " 17  Borough                                    450 non-null    object        \n",
      " 18  Latitude                                   409 non-null    float64       \n",
      " 19  Longitude                                  409 non-null    float64       \n",
      " 20  Community Board                            409 non-null    float64       \n",
      " 21  Council District                           409 non-null    float64       \n",
      " 22  Census Tract                               409 non-null    float64       \n",
      " 23  BIN                                        401 non-null    float64       \n",
      " 24  BBL                                        401 non-null    float64       \n",
      " 25  NTA                                        409 non-null    object        \n",
      " 26  date                                       450 non-null    datetime64[ns]\n",
      " 27  Month                                      450 non-null    int64         \n",
      "dtypes: datetime64[ns](1), float64(12), int64(2), object(13)\n",
      "memory usage: 98.6+ KB\n"
     ]
    }
   ],
   "source": [
    "# Look at the date times and the column anames that show the data\n",
    "df.info()"
   ]
  },
  {
   "cell_type": "code",
   "execution_count": 6,
   "id": "cb386ac4",
   "metadata": {},
   "outputs": [
    {
     "data": {
      "text/plain": [
       "(450, 26)"
      ]
     },
     "execution_count": 6,
     "metadata": {},
     "output_type": "execute_result"
    }
   ],
   "source": [
    "df.shape"
   ]
  },
  {
   "cell_type": "code",
   "execution_count": 7,
   "id": "2c316012",
   "metadata": {},
   "outputs": [
    {
     "data": {
      "text/plain": [
       "Company Name                                   0\n",
       "company contact                                0\n",
       "company email                                 17\n",
       "company phone                                  0\n",
       "Address                                        0\n",
       "City                                           0\n",
       "State                                          0\n",
       "Postcode                                       0\n",
       "Industry                                       0\n",
       "Industry descr                                16\n",
       "Company Type                                   0\n",
       "Current fulltime                               4\n",
       "Job created                                  439\n",
       "Job retain                                   436\n",
       "Effective Date                                 0\n",
       "Total Savings                                  0\n",
       "Savings from beginning receiving benefits      0\n",
       "Borough                                        0\n",
       "Latitude                                      41\n",
       "Longitude                                     41\n",
       "Community Board                               41\n",
       "Council District                              41\n",
       "Census Tract                                  41\n",
       "BIN                                           49\n",
       "BBL                                           49\n",
       "NTA                                           41\n",
       "dtype: int64"
      ]
     },
     "execution_count": 7,
     "metadata": {},
     "output_type": "execute_result"
    }
   ],
   "source": [
    "df.isnull().sum()"
   ]
  },
  {
   "cell_type": "code",
   "execution_count": 8,
   "id": "06ebd00c",
   "metadata": {},
   "outputs": [],
   "source": [
    "Companies = df.groupby(\"Company Name\")[\"Company Name\"].sum()"
   ]
  },
  {
   "cell_type": "code",
   "execution_count": 9,
   "id": "4956aa16",
   "metadata": {},
   "outputs": [
    {
     "data": {
      "text/plain": [
       "(439,)"
      ]
     },
     "execution_count": 9,
     "metadata": {},
     "output_type": "execute_result"
    }
   ],
   "source": [
    "Companies.shape"
   ]
  },
  {
   "cell_type": "code",
   "execution_count": 10,
   "id": "7e26df5d",
   "metadata": {},
   "outputs": [],
   "source": [
    "# Question 1 \n",
    "\n",
    "# 439 different companies are represented in the data set\n",
    "\n",
    "# could also double check by converting all to upper or lower case"
   ]
  },
  {
   "cell_type": "code",
   "execution_count": 11,
   "id": "07941548",
   "metadata": {},
   "outputs": [],
   "source": [
    "Jobs = df.groupby('Borough')['Job created'].sum()"
   ]
  },
  {
   "cell_type": "code",
   "execution_count": 12,
   "id": "560c472e",
   "metadata": {},
   "outputs": [
    {
     "data": {
      "text/plain": [
       "Borough\n",
       "Bronx             22.0\n",
       "Brooklyn          25.0\n",
       "New York           0.0\n",
       "Queens           102.0\n",
       "Staten Island      0.0\n",
       "Name: Job created, dtype: float64"
      ]
     },
     "execution_count": 12,
     "metadata": {},
     "output_type": "execute_result"
    }
   ],
   "source": [
    "Jobs"
   ]
  },
  {
   "cell_type": "code",
   "execution_count": 13,
   "id": "a4375816",
   "metadata": {},
   "outputs": [],
   "source": [
    "# Question 2\n",
    "\n",
    "# 102 jobs were created for businesses in Queens"
   ]
  },
  {
   "cell_type": "code",
   "execution_count": 14,
   "id": "00c21073",
   "metadata": {},
   "outputs": [],
   "source": [
    "# Question 3"
   ]
  },
  {
   "cell_type": "code",
   "execution_count": 15,
   "id": "c362fb28",
   "metadata": {},
   "outputs": [],
   "source": [
    "df1 = df.copy()\n",
    "\n",
    "df1 = df1 [['Company Name', 'company contact','company email']]\n",
    "\n",
    "#This method doesnt\n",
    "df1 = df1.dropna() #have to assign to a dataframe for this to work\n",
    "\n",
    "#df1['domain'] = df1['company email'].apply(lambda x: x.split('@')[1])\n",
    "\n",
    "#splits the email at '@' and takes the second part of the split index 1 (first part is index 0)\n",
    "\n",
    "df1['domain'] = df1['company email'].str.split('@').str[1]\n"
   ]
  },
  {
   "cell_type": "code",
   "execution_count": 17,
   "id": "b36e5789",
   "metadata": {},
   "outputs": [
    {
     "data": {
      "text/plain": [
       "(433, 4)"
      ]
     },
     "execution_count": 17,
     "metadata": {},
     "output_type": "execute_result"
    }
   ],
   "source": [
    "df1.shape"
   ]
  },
  {
   "cell_type": "code",
   "execution_count": 18,
   "id": "40df3450",
   "metadata": {},
   "outputs": [],
   "source": [
    "Domains = df1.groupby('domain')['domain'].nunique()"
   ]
  },
  {
   "cell_type": "code",
   "execution_count": 19,
   "id": "0371e7f6",
   "metadata": {},
   "outputs": [
    {
     "data": {
      "text/plain": [
       "(356,)"
      ]
     },
     "execution_count": 19,
     "metadata": {},
     "output_type": "execute_result"
    }
   ],
   "source": [
    "Domains.shape"
   ]
  },
  {
   "cell_type": "code",
   "execution_count": null,
   "id": "45078dc6",
   "metadata": {},
   "outputs": [],
   "source": [
    "# Question 3,there are 356 Unique Domains used"
   ]
  },
  {
   "cell_type": "code",
   "execution_count": null,
   "id": "5594b8ce",
   "metadata": {},
   "outputs": [],
   "source": []
  },
  {
   "cell_type": "code",
   "execution_count": null,
   "id": "75ca81ff",
   "metadata": {},
   "outputs": [],
   "source": [
    "# Questions Number 4"
   ]
  },
  {
   "cell_type": "code",
   "execution_count": null,
   "id": "f96f9840",
   "metadata": {},
   "outputs": [],
   "source": [
    "# Group by NTAs with at least 5 listed businesses"
   ]
  },
  {
   "cell_type": "code",
   "execution_count": null,
   "id": "fe87debb",
   "metadata": {},
   "outputs": [],
   "source": [
    "# Groups by NTA, and indicates the number of unique Company Names\n",
    "NTA2 = df.groupby('NTA')['Company Name'].nunique()\n",
    "\n",
    "# Create bool for indexing \n",
    "NTA_over_5 = NTA2[NTA2>5]\n"
   ]
  },
  {
   "cell_type": "code",
   "execution_count": 72,
   "id": "975f7be7",
   "metadata": {},
   "outputs": [],
   "source": [
    "#Creae a Month object using datetime\n",
    "\n",
    "from datetime import datetime\n",
    "\n",
    "df['date'] = pd.to_datetime(df['Effective Date'], format = '%m/%d/%Y')\n",
    "df['Month'] = df['date'].dt.month"
   ]
  },
  {
   "cell_type": "code",
   "execution_count": 75,
   "id": "576941d2",
   "metadata": {},
   "outputs": [],
   "source": [
    "#Use the AGG method to create 3 columns that will be used for Day 5\n",
    "\n",
    "# Require the average total savings, so use the function mean, \n",
    "# Require the total jobs created, so use the sum function\n",
    "# Need to plot jobs by month, so use the median - to give a representative 'Month' of the Effective Day that \n",
    "# The environmental impacts were created in each businesses, grouped by NTA - we do not know the day each job was created\n",
    "\n",
    "\n",
    "NTA_agg = df.groupby('NTA').agg({'Total Savings':'mean', \n",
    "                                 'Job created':'sum', \n",
    "                                 'Month':'median'})"
   ]
  },
  {
   "cell_type": "code",
   "execution_count": 77,
   "id": "1e333a28",
   "metadata": {},
   "outputs": [],
   "source": [
    "NTA_df = NTA_agg.loc[NTA_over_5.index].reset_index()"
   ]
  },
  {
   "cell_type": "code",
   "execution_count": 78,
   "id": "78947171",
   "metadata": {},
   "outputs": [
    {
     "data": {
      "text/html": [
       "<div>\n",
       "<style scoped>\n",
       "    .dataframe tbody tr th:only-of-type {\n",
       "        vertical-align: middle;\n",
       "    }\n",
       "\n",
       "    .dataframe tbody tr th {\n",
       "        vertical-align: top;\n",
       "    }\n",
       "\n",
       "    .dataframe thead th {\n",
       "        text-align: right;\n",
       "    }\n",
       "</style>\n",
       "<table border=\"1\" class=\"dataframe\">\n",
       "  <thead>\n",
       "    <tr style=\"text-align: right;\">\n",
       "      <th></th>\n",
       "      <th>NTA</th>\n",
       "      <th>Total Savings</th>\n",
       "      <th>Job created</th>\n",
       "      <th>Month</th>\n",
       "    </tr>\n",
       "  </thead>\n",
       "  <tbody>\n",
       "    <tr>\n",
       "      <th>0</th>\n",
       "      <td>Battery Park City-Lower Manhattan</td>\n",
       "      <td>469890.796667</td>\n",
       "      <td>0.0</td>\n",
       "      <td>6.0</td>\n",
       "    </tr>\n",
       "    <tr>\n",
       "      <th>1</th>\n",
       "      <td>Bushwick South</td>\n",
       "      <td>26140.455000</td>\n",
       "      <td>10.0</td>\n",
       "      <td>7.0</td>\n",
       "    </tr>\n",
       "    <tr>\n",
       "      <th>2</th>\n",
       "      <td>Carroll Gardens-Columbia Street-Red Hook</td>\n",
       "      <td>24337.390000</td>\n",
       "      <td>0.0</td>\n",
       "      <td>7.0</td>\n",
       "    </tr>\n",
       "    <tr>\n",
       "      <th>3</th>\n",
       "      <td>College Point</td>\n",
       "      <td>17159.372857</td>\n",
       "      <td>2.0</td>\n",
       "      <td>6.0</td>\n",
       "    </tr>\n",
       "    <tr>\n",
       "      <th>4</th>\n",
       "      <td>Crown Heights North</td>\n",
       "      <td>4036.298889</td>\n",
       "      <td>0.0</td>\n",
       "      <td>7.0</td>\n",
       "    </tr>\n",
       "    <tr>\n",
       "      <th>5</th>\n",
       "      <td>DUMBO-Vinegar Hill-Downtown Brooklyn-Boerum Hill</td>\n",
       "      <td>59950.340000</td>\n",
       "      <td>0.0</td>\n",
       "      <td>7.0</td>\n",
       "    </tr>\n",
       "    <tr>\n",
       "      <th>6</th>\n",
       "      <td>East New York</td>\n",
       "      <td>48433.093333</td>\n",
       "      <td>15.0</td>\n",
       "      <td>7.0</td>\n",
       "    </tr>\n",
       "    <tr>\n",
       "      <th>7</th>\n",
       "      <td>East Williamsburg</td>\n",
       "      <td>13990.626364</td>\n",
       "      <td>0.0</td>\n",
       "      <td>6.0</td>\n",
       "    </tr>\n",
       "    <tr>\n",
       "      <th>8</th>\n",
       "      <td>Greenpoint</td>\n",
       "      <td>9753.649286</td>\n",
       "      <td>0.0</td>\n",
       "      <td>6.5</td>\n",
       "    </tr>\n",
       "    <tr>\n",
       "      <th>9</th>\n",
       "      <td>Hunters Point-Sunnyside-West Maspeth</td>\n",
       "      <td>23931.398933</td>\n",
       "      <td>0.0</td>\n",
       "      <td>6.0</td>\n",
       "    </tr>\n",
       "    <tr>\n",
       "      <th>10</th>\n",
       "      <td>Hunts Point</td>\n",
       "      <td>39246.016154</td>\n",
       "      <td>12.0</td>\n",
       "      <td>6.0</td>\n",
       "    </tr>\n",
       "    <tr>\n",
       "      <th>11</th>\n",
       "      <td>Manhattanville</td>\n",
       "      <td>2760.888889</td>\n",
       "      <td>0.0</td>\n",
       "      <td>9.0</td>\n",
       "    </tr>\n",
       "    <tr>\n",
       "      <th>12</th>\n",
       "      <td>Maspeth</td>\n",
       "      <td>6658.283333</td>\n",
       "      <td>10.0</td>\n",
       "      <td>8.0</td>\n",
       "    </tr>\n",
       "    <tr>\n",
       "      <th>13</th>\n",
       "      <td>Mott Haven-Port Morris</td>\n",
       "      <td>17843.937857</td>\n",
       "      <td>10.0</td>\n",
       "      <td>7.0</td>\n",
       "    </tr>\n",
       "    <tr>\n",
       "      <th>14</th>\n",
       "      <td>Queensbridge-Ravenswood-Long Island City</td>\n",
       "      <td>61830.770625</td>\n",
       "      <td>0.0</td>\n",
       "      <td>7.0</td>\n",
       "    </tr>\n",
       "    <tr>\n",
       "      <th>15</th>\n",
       "      <td>Steinway</td>\n",
       "      <td>11227.155714</td>\n",
       "      <td>20.0</td>\n",
       "      <td>4.0</td>\n",
       "    </tr>\n",
       "    <tr>\n",
       "      <th>16</th>\n",
       "      <td>Sunset Park West</td>\n",
       "      <td>14316.976875</td>\n",
       "      <td>0.0</td>\n",
       "      <td>6.5</td>\n",
       "    </tr>\n",
       "    <tr>\n",
       "      <th>17</th>\n",
       "      <td>park-cemetery-etc-Brooklyn</td>\n",
       "      <td>14327.419333</td>\n",
       "      <td>0.0</td>\n",
       "      <td>4.0</td>\n",
       "    </tr>\n",
       "  </tbody>\n",
       "</table>\n",
       "</div>"
      ],
      "text/plain": [
       "                                                 NTA  Total Savings  \\\n",
       "0                  Battery Park City-Lower Manhattan  469890.796667   \n",
       "1                                     Bushwick South   26140.455000   \n",
       "2           Carroll Gardens-Columbia Street-Red Hook   24337.390000   \n",
       "3                                      College Point   17159.372857   \n",
       "4                                Crown Heights North    4036.298889   \n",
       "5   DUMBO-Vinegar Hill-Downtown Brooklyn-Boerum Hill   59950.340000   \n",
       "6                                      East New York   48433.093333   \n",
       "7                                  East Williamsburg   13990.626364   \n",
       "8                                         Greenpoint    9753.649286   \n",
       "9               Hunters Point-Sunnyside-West Maspeth   23931.398933   \n",
       "10                                       Hunts Point   39246.016154   \n",
       "11                                    Manhattanville    2760.888889   \n",
       "12                                           Maspeth    6658.283333   \n",
       "13                            Mott Haven-Port Morris   17843.937857   \n",
       "14          Queensbridge-Ravenswood-Long Island City   61830.770625   \n",
       "15                                          Steinway   11227.155714   \n",
       "16                                  Sunset Park West   14316.976875   \n",
       "17                        park-cemetery-etc-Brooklyn   14327.419333   \n",
       "\n",
       "    Job created  Month  \n",
       "0           0.0    6.0  \n",
       "1          10.0    7.0  \n",
       "2           0.0    7.0  \n",
       "3           2.0    6.0  \n",
       "4           0.0    7.0  \n",
       "5           0.0    7.0  \n",
       "6          15.0    7.0  \n",
       "7           0.0    6.0  \n",
       "8           0.0    6.5  \n",
       "9           0.0    6.0  \n",
       "10         12.0    6.0  \n",
       "11          0.0    9.0  \n",
       "12         10.0    8.0  \n",
       "13         10.0    7.0  \n",
       "14          0.0    7.0  \n",
       "15         20.0    4.0  \n",
       "16          0.0    6.5  \n",
       "17          0.0    4.0  "
      ]
     },
     "execution_count": 78,
     "metadata": {},
     "output_type": "execute_result"
    }
   ],
   "source": [
    "NTA_df"
   ]
  },
  {
   "cell_type": "code",
   "execution_count": null,
   "id": "3e376d91",
   "metadata": {},
   "outputs": [],
   "source": [
    "# Question Number 5\n",
    "\n",
    "NTA_df.to_csv('TDI_Onboarding_Day4.csv')"
   ]
  },
  {
   "cell_type": "code",
   "execution_count": null,
   "id": "32eaea67",
   "metadata": {},
   "outputs": [],
   "source": []
  },
  {
   "cell_type": "markdown",
   "id": "8da5aa75",
   "metadata": {},
   "source": [
    "# Day 5 Plotting "
   ]
  },
  {
   "cell_type": "code",
   "execution_count": 84,
   "id": "a21784b8",
   "metadata": {},
   "outputs": [],
   "source": [
    "import matplotlib.pyplot as plt "
   ]
  },
  {
   "cell_type": "code",
   "execution_count": 86,
   "id": "eb310c6d",
   "metadata": {},
   "outputs": [],
   "source": [
    "df_day5 = NTA_df"
   ]
  },
  {
   "cell_type": "code",
   "execution_count": 87,
   "id": "12f38773",
   "metadata": {},
   "outputs": [
    {
     "data": {
      "text/plain": [
       "Text(0.5, 1.0, 'Day 5 Scatter Plot')"
      ]
     },
     "execution_count": 87,
     "metadata": {},
     "output_type": "execute_result"
    },
    {
     "data": {
      "image/png": "[encoded data removed]",
      "text/plain": [
       "<Figure size 640x480 with 1 Axes>"
      ]
     },
     "metadata": {},
     "output_type": "display_data"
    }
   ],
   "source": [
    "plt.scatter(df_day5['Job created'], df_day5['Total Savings'])\n",
    "plt.xlabel('Jobs Created')\n",
    "plt.ylabel('Average Total Savings')\n",
    "plt.title('Day 5 Scatter Plot')"
   ]
  },
  {
   "cell_type": "code",
   "execution_count": 93,
   "id": "b2038d9b",
   "metadata": {},
   "outputs": [],
   "source": [
    "import numpy as np"
   ]
  },
  {
   "cell_type": "code",
   "execution_count": 92,
   "id": "01987ec2",
   "metadata": {},
   "outputs": [
    {
     "data": {
      "text/plain": [
       "Text(0.5, 1.0, 'Day 5 Scatter Plot')"
      ]
     },
     "execution_count": 92,
     "metadata": {},
     "output_type": "execute_result"
    },
    {
     "data": {
      "image/png": "[encoded data removed]",
      "text/plain": [
       "<Figure size 640x480 with 1 Axes>"
      ]
     },
     "metadata": {},
     "output_type": "display_data"
    }
   ],
   "source": [
    "plt.scatter(df_day5['Job created'], np.log2(df_day5['Total Savings']))\n",
    "plt.xlabel('Jobs Created')\n",
    "plt.ylabel('Average Total Savings (Log Transformed)')\n",
    "plt.title('Day 5 Scatter Plot')"
   ]
  },
  {
   "cell_type": "code",
   "execution_count": 96,
   "id": "b55e6da4",
   "metadata": {},
   "outputs": [
    {
     "data": {
      "text/plain": [
       "Text(0.5, 1.0, 'Day 5 Histogram')"
      ]
     },
     "execution_count": 96,
     "metadata": {},
     "output_type": "execute_result"
    },
    {
     "data": {
      "image/png": "[encoded data removed]",
      "text/plain": [
       "<Figure size 640x480 with 1 Axes>"
      ]
     },
     "metadata": {},
     "output_type": "display_data"
    }
   ],
   "source": [
    "plt.hist(np.log2(df_day5['Total Savings']))\n",
    "plt.ylabel('Frequence of Log(Avg Total Savings)')\n",
    "plt.title('Day 5 Histogram')"
   ]
  },
  {
   "cell_type": "code",
   "execution_count": 100,
   "id": "17404571",
   "metadata": {},
   "outputs": [
    {
     "data": {
      "text/plain": [
       "Text(0.5, 1.0, 'Day 5 Line Plot, Total Jobs vs. Month')"
      ]
     },
     "execution_count": 100,
     "metadata": {},
     "output_type": "execute_result"
    },
    {
     "data": {
      "image/png": "[encoded data removed]",
      "text/plain": [
       "<Figure size 640x480 with 1 Axes>"
      ]
     },
     "metadata": {},
     "output_type": "display_data"
    }
   ],
   "source": [
    "# This plot looks odd, but evidently so. Here we have assumed that Jobs created is related to the 'Effective Date' \n",
    "# This is very unlikely, however this is the best estimate.\n",
    "\n",
    "\n",
    "plt.plot( df_day5['Job created'], df_day5['Month'])\n",
    "plt.xlabel('Month')\n",
    "plt.ylabel('Jobs Created')\n",
    "plt.title('Day 5 Line Plot, Total Jobs vs. Month')"
   ]
  }
 ],
 "metadata": {
  "kernelspec": {
   "display_name": "Python 3 (ipykernel)",
   "language": "python",
   "name": "python3"
  },
  "language_info": {
   "codemirror_mode": {
    "name": "ipython",
    "version": 3
   },
   "file_extension": ".py",
   "mimetype": "text/x-python",
   "name": "python",
   "nbconvert_exporter": "python",
   "pygments_lexer": "ipython3",
   "version": "3.9.13"
  }
 },
 "nbformat": 4,
 "nbformat_minor": 5
}
